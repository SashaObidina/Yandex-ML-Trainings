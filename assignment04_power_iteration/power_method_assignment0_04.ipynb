{
  "cells": [
    {
      "cell_type": "markdown",
      "metadata": {
        "id": "-2pjXks_0tmd"
      },
      "source": [
        "## Задача №4: Степенной метод"
      ]
    },
    {
      "cell_type": "markdown",
      "metadata": {
        "id": "WPYirA190tmg"
      },
      "source": [
        "Ваша задача – реализовать степенной метод вычисления собственных значений и собственных векторов и протестировать его на синтетических данных. Подробности можно найти на [Википедии](https://ru.wikipedia.org/wiki/Степенной_метод).\n",
        "\n",
        "Пожалуйста, обратите внимание, что предложенный метод должен быть применим также для вычисления наименьшего собственного значения (по абсолютной величине).\n",
        "\n",
        "На всякий случай, для собственного значения $\\lambda$ и собственного вектора $\\boldsymbol{x}$ матрицы $\\mathbf{A}$ справедливо следующее уравнение:\n",
        "$$\n",
        "\\mathbf{A}\\boldsymbol{x} = \\lambda \\boldsymbol{x}\n",
        "$$"
      ]
    },
    {
      "cell_type": "code",
      "source": [
        "data=np.array([[2, 1, 4], [1, 2, 3], [3,4, 7]])\n",
        "r = np.random.rand(data.shape[0])\n",
        "print(r)\n",
        "print(data.shape[0])\n",
        "print(data.dot(r))\n",
        "print(np.linalg.norm(data.dot(r)))\n",
        "print(np.sqrt(np.sum(np.square(data.dot(r)))))"
      ],
      "metadata": {
        "colab": {
          "base_uri": "https://localhost:8080/"
        },
        "id": "VLK2UD-yi0C-",
        "outputId": "b0409a73-d18e-43fd-f69b-1e12fd031069"
      },
      "execution_count": 15,
      "outputs": [
        {
          "output_type": "stream",
          "name": "stdout",
          "text": [
            "[0.47982762 0.16228787 0.8613931 ]\n",
            "3\n",
            "[4.56751551 3.38858267 8.11838605]\n",
            "9.912259197276818\n",
            "9.912259197276818\n"
          ]
        }
      ]
    },
    {
      "cell_type": "code",
      "source": [
        "print(r.T)"
      ],
      "metadata": {
        "colab": {
          "base_uri": "https://localhost:8080/"
        },
        "id": "dFCzqhNgkV6P",
        "outputId": "78c9af16-dea3-4dd4-e1e9-a638526a425d"
      },
      "execution_count": 16,
      "outputs": [
        {
          "output_type": "stream",
          "name": "stdout",
          "text": [
            "[0.47982762 0.16228787 0.8613931 ]\n"
          ]
        }
      ]
    },
    {
      "cell_type": "code",
      "execution_count": 1,
      "metadata": {
        "ExecuteTime": {
          "end_time": "2020-02-11T07:08:51.904850Z",
          "start_time": "2020-02-11T07:08:50.413258Z"
        },
        "id": "4pqgXdtr0tmh"
      },
      "outputs": [],
      "source": [
        "import numpy as np"
      ]
    },
    {
      "cell_type": "code",
      "execution_count": 25,
      "metadata": {
        "id": "iZg2J9YA3G4Y"
      },
      "outputs": [],
      "source": [
        "def get_dominant_eigenvalue_and_eigenvector(data, num_steps):\n",
        "    \"\"\"\n",
        "    data: np.ndarray – symmetric diagonalizable real-valued matrix\n",
        "    num_steps: int – number of power method steps\n",
        "\n",
        "    Returns:\n",
        "    eigenvalue: float – dominant eigenvalue estimation after `num_steps` steps\n",
        "    eigenvector: np.ndarray – corresponding eigenvector estimation\n",
        "    \"\"\"\n",
        "    ### YOUR CODE HERE\n",
        "    n = data.shape[0]\n",
        "    r = np.random.rand(n).T\n",
        "\n",
        "    for i in range(num_steps):\n",
        "        r = data.dot(r)/np.sqrt(np.sum(np.square(data.dot(r))))\n",
        "        lam = (r.T.dot(data).dot(r))/(r.T.dot(r))\n",
        "\n",
        "    #print(lam)\n",
        "    #print(r)\n",
        "\n",
        "    return float(lam), r\n"
      ]
    },
    {
      "cell_type": "code",
      "source": [
        "data = np.array([[0,2], [2,3]])\n",
        "value, vector = get_dominant_eigenvalue_and_eigenvector(data, 100)\n",
        "print(value, vector)\n",
        "print(np.linalg.eig(data))"
      ],
      "metadata": {
        "colab": {
          "base_uri": "https://localhost:8080/"
        },
        "id": "XX1xvk-Nl1Aq",
        "outputId": "0e983380-e7b8-4b22-f22a-77809c466172"
      },
      "execution_count": 34,
      "outputs": [
        {
          "output_type": "stream",
          "name": "stdout",
          "text": [
            "4.0 [0.4472136  0.89442719]\n",
            "(array([-1.,  4.]), array([[-0.89442719, -0.4472136 ],\n",
            "       [ 0.4472136 , -0.89442719]]))\n"
          ]
        }
      ]
    },
    {
      "cell_type": "markdown",
      "metadata": {
        "id": "nlW7rjRe3G4Y"
      },
      "source": [
        "Для вашего удобства реализовано несколько тестов ниже. В качестве корректного примера используется функция из numpy."
      ]
    },
    {
      "cell_type": "code",
      "execution_count": 26,
      "metadata": {
        "id": "NDKfInpU3G4Z"
      },
      "outputs": [],
      "source": [
        "def get_eigenvalues_and_eigenvectors_with_numpy(data):\n",
        "    _eigenvalues, _eigenvectors = np.linalg.eig(data)\n",
        "    max_index = np.argmax(np.abs(_eigenvalues))\n",
        "    min_index = np.argmin(np.abs(_eigenvalues))\n",
        "\n",
        "    _test_pair_a = np.array([_eigenvalues[max_index], _eigenvalues[min_index]])\n",
        "    _test_pair_b = np.array([_eigenvectors[:, max_index], _eigenvectors[:, min_index]])\n",
        "    if _test_pair_b[0][0] < 0:\n",
        "        _test_pair_b[0] *= -1\n",
        "    if _test_pair_b[1][0] < 0:\n",
        "        _test_pair_b[1] *= -1\n",
        "\n",
        "    return _test_pair_a, _test_pair_b"
      ]
    },
    {
      "cell_type": "code",
      "execution_count": 35,
      "metadata": {
        "colab": {
          "base_uri": "https://localhost:8080/"
        },
        "id": "zDRezx2x3G4Z",
        "outputId": "3aedd70e-5d14-47b1-e3a2-3cfefea41048"
      },
      "outputs": [
        {
          "output_type": "stream",
          "name": "stdout",
          "text": [
            "Seems fine! Copy function `get_dominant_eigenvalue_and_eigenvector` to the .py file and submit your solution to the contest!\n"
          ]
        }
      ],
      "source": [
        "for _ in range(1000):\n",
        "    size = np.random.choice(np.arange(2, 5))\n",
        "    data = np.random.randn(size, size)\n",
        "    data = data.T.dot(data)\n",
        "    a0, b0 = get_dominant_eigenvalue_and_eigenvector(data, 1000)\n",
        "    assert (\n",
        "        type(a0) == float\n",
        "    ), \"Return type for eigenvalue is not Python float (please, note, numpy.float64 is a different type)\"\n",
        "    assert type(b0) == np.ndarray, \"Return type for eigenvector is not np.ndarray\"\n",
        "\n",
        "    a1, b1 = get_dominant_eigenvalue_and_eigenvector(np.linalg.inv(data), 1000)\n",
        "    a1 = 1 / a1\n",
        "\n",
        "    if b0[0] < 0:\n",
        "        b0 *= -1\n",
        "    if b1[0] < 0:\n",
        "        b1 *= -1\n",
        "\n",
        "    assert np.allclose(\n",
        "        data.dot(b0), a0 * b0, atol=1e-3\n",
        "    ), f\"Ax != \\lambda x for the dominant eigenvalue check the solution!\\n{data.dot(b0), a0 * b0}\"\n",
        "    assert np.allclose(\n",
        "        data.dot(b1), a1 * b1, atol=1e-3\n",
        "    ), f\"Ax != \\lambda x for the smallest eigenvalue check the solution!\\n{data.dot(b1), a1 * b1}\"\n",
        "\n",
        "    _test_pair_a, _test_pair_b = get_eigenvalues_and_eigenvectors_with_numpy(data)\n",
        "\n",
        "    assert np.allclose(\n",
        "        _test_pair_a, np.array([a0, a1]), atol=1e-3\n",
        "    ), f\"Eigenvalues are different from np.linalg.eig!\\n{_test_pair_a, np.array([a0, a1])}\"\n",
        "    assert np.allclose(\n",
        "        _test_pair_b, np.array([b0, b1]), atol=1e-3\n",
        "    ), f\"Eigenvectors are different from np.linalg.eig!\\n{_test_pair_b, np.array([b0, b1])}\"\n",
        "\n",
        "print(\n",
        "    \"Seems fine! Copy function `get_dominant_eigenvalue_and_eigenvector` to the .py file and submit your solution to the contest!\"\n",
        ")"
      ]
    }
  ],
  "metadata": {
    "colab": {
      "provenance": []
    },
    "kernelspec": {
      "display_name": "Py3 Research",
      "language": "python",
      "name": "py3_research_kernel"
    },
    "language_info": {
      "codemirror_mode": {
        "name": "ipython",
        "version": 3
      },
      "file_extension": ".py",
      "mimetype": "text/x-python",
      "name": "python",
      "nbconvert_exporter": "python",
      "pygments_lexer": "ipython3",
      "version": "3.9.7"
    }
  },
  "nbformat": 4,
  "nbformat_minor": 0
}